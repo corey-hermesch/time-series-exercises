{
 "cells": [
  {
   "cell_type": "code",
   "execution_count": 1,
   "id": "c2bd50ca-0a4c-4337-b04e-22cb6d39f22d",
   "metadata": {},
   "outputs": [],
   "source": [
    "import numpy as np\n",
    "import pandas as pd\n",
    "\n",
    "import matplotlib.pyplot as plt\n",
    "import seaborn as sns\n",
    "\n",
    "from sklearn.model_selection import TimeSeriesSplit\n",
    "\n",
    "import acquire as a\n",
    "import prepare as p"
   ]
  },
  {
   "cell_type": "markdown",
   "id": "a8509d27-4c11-448e-8af0-46ee42b4aa72",
   "metadata": {},
   "source": [
    "# Exercise\n",
    "\n",
    "Do your work for this exercise in a notebook named explore. Use the techniques in the lesson to explore the store item demand dataset and the opsd dataset.\n",
    "\n",
    "For the store item demand data, you will need to choose a method of aggregating such that each observation is a unique date. For both datasets you should choose a method of splitting your data and only explore the training split."
   ]
  },
  {
   "cell_type": "code",
   "execution_count": 2,
   "id": "d5f7de98-c94a-499a-984f-88476cf76500",
   "metadata": {},
   "outputs": [],
   "source": [
    "# Starting with superstore dataset\n",
    "df = p.get_superstore_df()"
   ]
  },
  {
   "cell_type": "code",
   "execution_count": 3,
   "id": "ba250e18-42b5-4666-8b93-2cb6c6f90161",
   "metadata": {},
   "outputs": [
    {
     "data": {
      "text/html": [
       "<div>\n",
       "<style scoped>\n",
       "    .dataframe tbody tr th:only-of-type {\n",
       "        vertical-align: middle;\n",
       "    }\n",
       "\n",
       "    .dataframe tbody tr th {\n",
       "        vertical-align: top;\n",
       "    }\n",
       "\n",
       "    .dataframe thead th {\n",
       "        text-align: right;\n",
       "    }\n",
       "</style>\n",
       "<table border=\"1\" class=\"dataframe\">\n",
       "  <thead>\n",
       "    <tr style=\"text-align: right;\">\n",
       "      <th></th>\n",
       "      <th>sale_amount</th>\n",
       "      <th>item_price</th>\n",
       "      <th>sales_total</th>\n",
       "      <th>month</th>\n",
       "      <th>day_of_week</th>\n",
       "      <th>item_id</th>\n",
       "      <th>store_id</th>\n",
       "      <th>sale_id</th>\n",
       "      <th>item_name</th>\n",
       "      <th>item_brand</th>\n",
       "      <th>item_upc14</th>\n",
       "      <th>store_address</th>\n",
       "      <th>store_city</th>\n",
       "      <th>store_state</th>\n",
       "      <th>store_zipcode</th>\n",
       "    </tr>\n",
       "    <tr>\n",
       "      <th>sale_date</th>\n",
       "      <th></th>\n",
       "      <th></th>\n",
       "      <th></th>\n",
       "      <th></th>\n",
       "      <th></th>\n",
       "      <th></th>\n",
       "      <th></th>\n",
       "      <th></th>\n",
       "      <th></th>\n",
       "      <th></th>\n",
       "      <th></th>\n",
       "      <th></th>\n",
       "      <th></th>\n",
       "      <th></th>\n",
       "      <th></th>\n",
       "    </tr>\n",
       "  </thead>\n",
       "  <tbody>\n",
       "    <tr>\n",
       "      <th>2013-01-01</th>\n",
       "      <td>13.0</td>\n",
       "      <td>0.84</td>\n",
       "      <td>10.92</td>\n",
       "      <td>January</td>\n",
       "      <td>Tuesday</td>\n",
       "      <td>1</td>\n",
       "      <td>1</td>\n",
       "      <td>1</td>\n",
       "      <td>Riceland American Jazmine Rice</td>\n",
       "      <td>Riceland</td>\n",
       "      <td>35200264013</td>\n",
       "      <td>12125 Alamo Ranch Pkwy</td>\n",
       "      <td>San Antonio</td>\n",
       "      <td>TX</td>\n",
       "      <td>78253</td>\n",
       "    </tr>\n",
       "    <tr>\n",
       "      <th>2013-01-01</th>\n",
       "      <td>26.0</td>\n",
       "      <td>1.16</td>\n",
       "      <td>30.16</td>\n",
       "      <td>January</td>\n",
       "      <td>Tuesday</td>\n",
       "      <td>17</td>\n",
       "      <td>3</td>\n",
       "      <td>295813</td>\n",
       "      <td>Ducal Refried Red Beans</td>\n",
       "      <td>Ducal</td>\n",
       "      <td>88313590791</td>\n",
       "      <td>2118 Fredericksburg Rdj</td>\n",
       "      <td>San Antonio</td>\n",
       "      <td>TX</td>\n",
       "      <td>78201</td>\n",
       "    </tr>\n",
       "    <tr>\n",
       "      <th>2013-01-01</th>\n",
       "      <td>32.0</td>\n",
       "      <td>9.64</td>\n",
       "      <td>308.48</td>\n",
       "      <td>January</td>\n",
       "      <td>Tuesday</td>\n",
       "      <td>7</td>\n",
       "      <td>10</td>\n",
       "      <td>125995</td>\n",
       "      <td>Twinings Of London Classics Lady Grey Tea - 20 Ct</td>\n",
       "      <td>Twinings Of London</td>\n",
       "      <td>70177154004</td>\n",
       "      <td>8503 NW Military Hwy</td>\n",
       "      <td>San Antonio</td>\n",
       "      <td>TX</td>\n",
       "      <td>78231</td>\n",
       "    </tr>\n",
       "    <tr>\n",
       "      <th>2013-01-01</th>\n",
       "      <td>45.0</td>\n",
       "      <td>4.39</td>\n",
       "      <td>197.55</td>\n",
       "      <td>January</td>\n",
       "      <td>Tuesday</td>\n",
       "      <td>18</td>\n",
       "      <td>3</td>\n",
       "      <td>314073</td>\n",
       "      <td>Scotch Removable Clear Mounting Squares - 35 Ct</td>\n",
       "      <td>Scotch</td>\n",
       "      <td>21200725340</td>\n",
       "      <td>2118 Fredericksburg Rdj</td>\n",
       "      <td>San Antonio</td>\n",
       "      <td>TX</td>\n",
       "      <td>78201</td>\n",
       "    </tr>\n",
       "    <tr>\n",
       "      <th>2013-01-01</th>\n",
       "      <td>34.0</td>\n",
       "      <td>0.74</td>\n",
       "      <td>25.16</td>\n",
       "      <td>January</td>\n",
       "      <td>Tuesday</td>\n",
       "      <td>19</td>\n",
       "      <td>3</td>\n",
       "      <td>332333</td>\n",
       "      <td>Careone Family Comb Set - 8 Ct</td>\n",
       "      <td>Careone</td>\n",
       "      <td>41520035646</td>\n",
       "      <td>2118 Fredericksburg Rdj</td>\n",
       "      <td>San Antonio</td>\n",
       "      <td>TX</td>\n",
       "      <td>78201</td>\n",
       "    </tr>\n",
       "  </tbody>\n",
       "</table>\n",
       "</div>"
      ],
      "text/plain": [
       "            sale_amount  item_price  sales_total    month day_of_week  \\\n",
       "sale_date                                                               \n",
       "2013-01-01         13.0        0.84        10.92  January     Tuesday   \n",
       "2013-01-01         26.0        1.16        30.16  January     Tuesday   \n",
       "2013-01-01         32.0        9.64       308.48  January     Tuesday   \n",
       "2013-01-01         45.0        4.39       197.55  January     Tuesday   \n",
       "2013-01-01         34.0        0.74        25.16  January     Tuesday   \n",
       "\n",
       "            item_id  store_id  sale_id  \\\n",
       "sale_date                                \n",
       "2013-01-01        1         1        1   \n",
       "2013-01-01       17         3   295813   \n",
       "2013-01-01        7        10   125995   \n",
       "2013-01-01       18         3   314073   \n",
       "2013-01-01       19         3   332333   \n",
       "\n",
       "                                                    item_name  \\\n",
       "sale_date                                                       \n",
       "2013-01-01                     Riceland American Jazmine Rice   \n",
       "2013-01-01                            Ducal Refried Red Beans   \n",
       "2013-01-01  Twinings Of London Classics Lady Grey Tea - 20 Ct   \n",
       "2013-01-01    Scotch Removable Clear Mounting Squares - 35 Ct   \n",
       "2013-01-01                     Careone Family Comb Set - 8 Ct   \n",
       "\n",
       "                    item_brand   item_upc14            store_address  \\\n",
       "sale_date                                                              \n",
       "2013-01-01            Riceland  35200264013   12125 Alamo Ranch Pkwy   \n",
       "2013-01-01               Ducal  88313590791  2118 Fredericksburg Rdj   \n",
       "2013-01-01  Twinings Of London  70177154004     8503 NW Military Hwy   \n",
       "2013-01-01              Scotch  21200725340  2118 Fredericksburg Rdj   \n",
       "2013-01-01             Careone  41520035646  2118 Fredericksburg Rdj   \n",
       "\n",
       "             store_city store_state  store_zipcode  \n",
       "sale_date                                           \n",
       "2013-01-01  San Antonio          TX          78253  \n",
       "2013-01-01  San Antonio          TX          78201  \n",
       "2013-01-01  San Antonio          TX          78231  \n",
       "2013-01-01  San Antonio          TX          78201  \n",
       "2013-01-01  San Antonio          TX          78201  "
      ]
     },
     "execution_count": 3,
     "metadata": {},
     "output_type": "execute_result"
    }
   ],
   "source": [
    "df.head()"
   ]
  },
  {
   "cell_type": "code",
   "execution_count": 4,
   "id": "a3c6dc72-4ee0-4c0a-8955-35509822fbea",
   "metadata": {},
   "outputs": [],
   "source": [
    "tscv = TimeSeriesSplit(n_splits=2)"
   ]
  },
  {
   "cell_type": "code",
   "execution_count": 5,
   "id": "f129ddb9-13f2-44ea-a730-ced9f8eae7a2",
   "metadata": {},
   "outputs": [],
   "source": [
    "train_index, test_index = next(tscv.split(df))"
   ]
  },
  {
   "cell_type": "code",
   "execution_count": 6,
   "id": "a43f082e-093b-469d-a178-b491b39e1f9e",
   "metadata": {},
   "outputs": [
    {
     "data": {
      "text/plain": [
       "array([     0,      1,      2, ..., 304331, 304332, 304333])"
      ]
     },
     "execution_count": 6,
     "metadata": {},
     "output_type": "execute_result"
    }
   ],
   "source": [
    "train_index"
   ]
  },
  {
   "cell_type": "code",
   "execution_count": 7,
   "id": "4243e54b-f53a-4ba1-89a7-52f50c60b509",
   "metadata": {},
   "outputs": [
    {
     "data": {
      "text/plain": [
       "array([304334, 304335, 304336, ..., 608664, 608665, 608666])"
      ]
     },
     "execution_count": 7,
     "metadata": {},
     "output_type": "execute_result"
    }
   ],
   "source": [
    "test_index"
   ]
  },
  {
   "cell_type": "code",
   "execution_count": 8,
   "id": "e2ebcb87-fd68-4831-85d2-441994dbdc98",
   "metadata": {},
   "outputs": [],
   "source": [
    "train = df.iloc[train_index]\n",
    "test = df.iloc[test_index]"
   ]
  },
  {
   "cell_type": "code",
   "execution_count": 9,
   "id": "0759d6e2-02f2-4668-87e1-206c32f87947",
   "metadata": {},
   "outputs": [
    {
     "data": {
      "text/html": [
       "<div>\n",
       "<style scoped>\n",
       "    .dataframe tbody tr th:only-of-type {\n",
       "        vertical-align: middle;\n",
       "    }\n",
       "\n",
       "    .dataframe tbody tr th {\n",
       "        vertical-align: top;\n",
       "    }\n",
       "\n",
       "    .dataframe thead th {\n",
       "        text-align: right;\n",
       "    }\n",
       "</style>\n",
       "<table border=\"1\" class=\"dataframe\">\n",
       "  <thead>\n",
       "    <tr style=\"text-align: right;\">\n",
       "      <th></th>\n",
       "      <th>sale_amount</th>\n",
       "      <th>item_price</th>\n",
       "      <th>sales_total</th>\n",
       "      <th>month</th>\n",
       "      <th>day_of_week</th>\n",
       "      <th>item_id</th>\n",
       "      <th>store_id</th>\n",
       "      <th>sale_id</th>\n",
       "      <th>item_name</th>\n",
       "      <th>item_brand</th>\n",
       "      <th>item_upc14</th>\n",
       "      <th>store_address</th>\n",
       "      <th>store_city</th>\n",
       "      <th>store_state</th>\n",
       "      <th>store_zipcode</th>\n",
       "    </tr>\n",
       "    <tr>\n",
       "      <th>sale_date</th>\n",
       "      <th></th>\n",
       "      <th></th>\n",
       "      <th></th>\n",
       "      <th></th>\n",
       "      <th></th>\n",
       "      <th></th>\n",
       "      <th></th>\n",
       "      <th></th>\n",
       "      <th></th>\n",
       "      <th></th>\n",
       "      <th></th>\n",
       "      <th></th>\n",
       "      <th></th>\n",
       "      <th></th>\n",
       "      <th></th>\n",
       "    </tr>\n",
       "  </thead>\n",
       "  <tbody>\n",
       "    <tr>\n",
       "      <th>2013-01-01</th>\n",
       "      <td>13.0</td>\n",
       "      <td>0.84</td>\n",
       "      <td>10.92</td>\n",
       "      <td>January</td>\n",
       "      <td>Tuesday</td>\n",
       "      <td>1</td>\n",
       "      <td>1</td>\n",
       "      <td>1</td>\n",
       "      <td>Riceland American Jazmine Rice</td>\n",
       "      <td>Riceland</td>\n",
       "      <td>35200264013</td>\n",
       "      <td>12125 Alamo Ranch Pkwy</td>\n",
       "      <td>San Antonio</td>\n",
       "      <td>TX</td>\n",
       "      <td>78253</td>\n",
       "    </tr>\n",
       "    <tr>\n",
       "      <th>2013-01-01</th>\n",
       "      <td>26.0</td>\n",
       "      <td>1.16</td>\n",
       "      <td>30.16</td>\n",
       "      <td>January</td>\n",
       "      <td>Tuesday</td>\n",
       "      <td>17</td>\n",
       "      <td>3</td>\n",
       "      <td>295813</td>\n",
       "      <td>Ducal Refried Red Beans</td>\n",
       "      <td>Ducal</td>\n",
       "      <td>88313590791</td>\n",
       "      <td>2118 Fredericksburg Rdj</td>\n",
       "      <td>San Antonio</td>\n",
       "      <td>TX</td>\n",
       "      <td>78201</td>\n",
       "    </tr>\n",
       "    <tr>\n",
       "      <th>2013-01-01</th>\n",
       "      <td>32.0</td>\n",
       "      <td>9.64</td>\n",
       "      <td>308.48</td>\n",
       "      <td>January</td>\n",
       "      <td>Tuesday</td>\n",
       "      <td>7</td>\n",
       "      <td>10</td>\n",
       "      <td>125995</td>\n",
       "      <td>Twinings Of London Classics Lady Grey Tea - 20 Ct</td>\n",
       "      <td>Twinings Of London</td>\n",
       "      <td>70177154004</td>\n",
       "      <td>8503 NW Military Hwy</td>\n",
       "      <td>San Antonio</td>\n",
       "      <td>TX</td>\n",
       "      <td>78231</td>\n",
       "    </tr>\n",
       "    <tr>\n",
       "      <th>2013-01-01</th>\n",
       "      <td>45.0</td>\n",
       "      <td>4.39</td>\n",
       "      <td>197.55</td>\n",
       "      <td>January</td>\n",
       "      <td>Tuesday</td>\n",
       "      <td>18</td>\n",
       "      <td>3</td>\n",
       "      <td>314073</td>\n",
       "      <td>Scotch Removable Clear Mounting Squares - 35 Ct</td>\n",
       "      <td>Scotch</td>\n",
       "      <td>21200725340</td>\n",
       "      <td>2118 Fredericksburg Rdj</td>\n",
       "      <td>San Antonio</td>\n",
       "      <td>TX</td>\n",
       "      <td>78201</td>\n",
       "    </tr>\n",
       "    <tr>\n",
       "      <th>2013-01-01</th>\n",
       "      <td>34.0</td>\n",
       "      <td>0.74</td>\n",
       "      <td>25.16</td>\n",
       "      <td>January</td>\n",
       "      <td>Tuesday</td>\n",
       "      <td>19</td>\n",
       "      <td>3</td>\n",
       "      <td>332333</td>\n",
       "      <td>Careone Family Comb Set - 8 Ct</td>\n",
       "      <td>Careone</td>\n",
       "      <td>41520035646</td>\n",
       "      <td>2118 Fredericksburg Rdj</td>\n",
       "      <td>San Antonio</td>\n",
       "      <td>TX</td>\n",
       "      <td>78201</td>\n",
       "    </tr>\n",
       "  </tbody>\n",
       "</table>\n",
       "</div>"
      ],
      "text/plain": [
       "            sale_amount  item_price  sales_total    month day_of_week  \\\n",
       "sale_date                                                               \n",
       "2013-01-01         13.0        0.84        10.92  January     Tuesday   \n",
       "2013-01-01         26.0        1.16        30.16  January     Tuesday   \n",
       "2013-01-01         32.0        9.64       308.48  January     Tuesday   \n",
       "2013-01-01         45.0        4.39       197.55  January     Tuesday   \n",
       "2013-01-01         34.0        0.74        25.16  January     Tuesday   \n",
       "\n",
       "            item_id  store_id  sale_id  \\\n",
       "sale_date                                \n",
       "2013-01-01        1         1        1   \n",
       "2013-01-01       17         3   295813   \n",
       "2013-01-01        7        10   125995   \n",
       "2013-01-01       18         3   314073   \n",
       "2013-01-01       19         3   332333   \n",
       "\n",
       "                                                    item_name  \\\n",
       "sale_date                                                       \n",
       "2013-01-01                     Riceland American Jazmine Rice   \n",
       "2013-01-01                            Ducal Refried Red Beans   \n",
       "2013-01-01  Twinings Of London Classics Lady Grey Tea - 20 Ct   \n",
       "2013-01-01    Scotch Removable Clear Mounting Squares - 35 Ct   \n",
       "2013-01-01                     Careone Family Comb Set - 8 Ct   \n",
       "\n",
       "                    item_brand   item_upc14            store_address  \\\n",
       "sale_date                                                              \n",
       "2013-01-01            Riceland  35200264013   12125 Alamo Ranch Pkwy   \n",
       "2013-01-01               Ducal  88313590791  2118 Fredericksburg Rdj   \n",
       "2013-01-01  Twinings Of London  70177154004     8503 NW Military Hwy   \n",
       "2013-01-01              Scotch  21200725340  2118 Fredericksburg Rdj   \n",
       "2013-01-01             Careone  41520035646  2118 Fredericksburg Rdj   \n",
       "\n",
       "             store_city store_state  store_zipcode  \n",
       "sale_date                                           \n",
       "2013-01-01  San Antonio          TX          78253  \n",
       "2013-01-01  San Antonio          TX          78201  \n",
       "2013-01-01  San Antonio          TX          78231  \n",
       "2013-01-01  San Antonio          TX          78201  \n",
       "2013-01-01  San Antonio          TX          78201  "
      ]
     },
     "execution_count": 9,
     "metadata": {},
     "output_type": "execute_result"
    }
   ],
   "source": [
    "train.head()"
   ]
  },
  {
   "cell_type": "code",
   "execution_count": 10,
   "id": "49e5ffea-7e0b-47da-a411-c57e415d0301",
   "metadata": {},
   "outputs": [
    {
     "data": {
      "image/png": "[encoded data removed]",
      "text/plain": [
       "<Figure size 640x480 with 1 Axes>"
      ]
     },
     "metadata": {},
     "output_type": "display_data"
    }
   ],
   "source": [
    "plt.plot(train.index, train.sale_amount)\n",
    "plt.plot(test.index, test.sale_amount)\n",
    "plt.xticks(rotation=45)\n",
    "plt.show()"
   ]
  },
  {
   "cell_type": "code",
   "execution_count": 11,
   "id": "565f0d64-20e2-4592-8c27-c18b70522c65",
   "metadata": {},
   "outputs": [
    {
     "data": {
      "text/plain": [
       "[<matplotlib.lines.Line2D at 0x16bc56dc0>]"
      ]
     },
     "execution_count": 11,
     "metadata": {},
     "output_type": "execute_result"
    },
    {
     "data": {
      "image/png": "[encoded data removed]",
      "text/plain": [
       "<Figure size 640x480 with 1 Axes>"
      ]
     },
     "metadata": {},
     "output_type": "display_data"
    }
   ],
   "source": [
    "# TimeSeriesSplit doesn't seem too logical, so now I'll plot the whole df and split on something human based\n",
    "plt.plot(df.index, df.sale_amount)"
   ]
  },
  {
   "cell_type": "code",
   "execution_count": 12,
   "id": "f5347bdc-29a3-4da3-a582-5a1f1c15f7b8",
   "metadata": {},
   "outputs": [],
   "source": [
    "train = df.loc[:'2017']\n",
    "test = df.loc['2017':]"
   ]
  },
  {
   "cell_type": "code",
   "execution_count": 13,
   "id": "1c94569a-bf47-410e-aff8-89f2d950da55",
   "metadata": {},
   "outputs": [
    {
     "data": {
      "image/png": "[encoded data removed]",
      "text/plain": [
       "<Figure size 640x480 with 1 Axes>"
      ]
     },
     "metadata": {},
     "output_type": "display_data"
    }
   ],
   "source": [
    "# replot\n",
    "plt.plot(train.index, train.sale_amount)\n",
    "plt.plot(test.index, test.sale_amount)\n",
    "plt.xticks(rotation=45)\n",
    "plt.show()"
   ]
  },
  {
   "cell_type": "code",
   "execution_count": 14,
   "id": "34789ea2-320c-4627-9cf7-0fc08ab893dc",
   "metadata": {},
   "outputs": [
    {
     "data": {
      "text/plain": [
       "sale_date\n",
       "2013-01-01    13.0\n",
       "2013-01-01    26.0\n",
       "2013-01-01    32.0\n",
       "2013-01-01    45.0\n",
       "2013-01-01    34.0\n",
       "Name: sale_amount, dtype: float64"
      ]
     },
     "execution_count": 14,
     "metadata": {},
     "output_type": "execute_result"
    }
   ],
   "source": [
    "# put target sale_amount into y for ease\n",
    "y= train.sale_amount\n",
    "y.head()"
   ]
  },
  {
   "cell_type": "code",
   "execution_count": 15,
   "id": "a683075a-c155-42a7-a601-cd67977d0ac5",
   "metadata": {},
   "outputs": [
    {
     "data": {
      "text/plain": [
       "<AxesSubplot:ylabel='Frequency'>"
      ]
     },
     "execution_count": 15,
     "metadata": {},
     "output_type": "execute_result"
    },
    {
     "data": {
      "image/png": "[encoded data removed]",
      "text/plain": [
       "<Figure size 640x480 with 1 Axes>"
      ]
     },
     "metadata": {},
     "output_type": "display_data"
    }
   ],
   "source": [
    "# don't consider time series for now\n",
    "y.plot.hist()"
   ]
  },
  {
   "cell_type": "code",
   "execution_count": 16,
   "id": "76d94bc2-caed-4c5f-91b1-4c4cf4ad99df",
   "metadata": {},
   "outputs": [
    {
     "data": {
      "image/png": "[encoded data removed]",
      "text/plain": [
       "<Figure size 640x480 with 1 Axes>"
      ]
     },
     "metadata": {},
     "output_type": "display_data"
    }
   ],
   "source": [
    "# plot monthly means\n",
    "y.groupby(y.index.month).mean().plot.bar()\n",
    "plt.title('Average sale_amount by month')\n",
    "plt.xticks(rotation=0)\n",
    "plt.xlabel('month')\n",
    "plt.show()"
   ]
  },
  {
   "cell_type": "code",
   "execution_count": 19,
   "id": "dc7e9406-b096-4b5b-9d09-bc5746cdd03a",
   "metadata": {},
   "outputs": [],
   "source": [
    "# assign a weekday column and a day_num column for use in plotting\n",
    "\n",
    "# start here or just move on. I have the plot below, just not as pretty"
   ]
  },
  {
   "cell_type": "code",
   "execution_count": 17,
   "id": "40a40dfa-7fab-4c6a-a3f2-999ab64cd3be",
   "metadata": {},
   "outputs": [
    {
     "data": {
      "image/png": "[encoded data removed]",
      "text/plain": [
       "<Figure size 640x480 with 1 Axes>"
      ]
     },
     "metadata": {},
     "output_type": "display_data"
    }
   ],
   "source": [
    "# plot daily means\n",
    "y.groupby(y.index.weekday).mean().plot.bar()\n",
    "plt.title('Average sale_amount by day')\n",
    "plt.xticks(rotation=0)\n",
    "plt.xlabel('day: Mon-Sun (0-6)')\n",
    "plt.show()"
   ]
  },
  {
   "cell_type": "code",
   "execution_count": null,
   "id": "111120c9-6fc0-4aa7-8c6b-f43a4e653cc6",
   "metadata": {},
   "outputs": [],
   "source": []
  }
 ],
 "metadata": {
  "kernelspec": {
   "display_name": "Python 3 (ipykernel)",
   "language": "python",
   "name": "python3"
  },
  "language_info": {
   "codemirror_mode": {
    "name": "ipython",
    "version": 3
   },
   "file_extension": ".py",
   "mimetype": "text/x-python",
   "name": "python",
   "nbconvert_exporter": "python",
   "pygments_lexer": "ipython3",
   "version": "3.9.13"
  }
 },
 "nbformat": 4,
 "nbformat_minor": 5
}
